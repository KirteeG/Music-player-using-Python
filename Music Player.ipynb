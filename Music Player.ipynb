{
 "cells": [
  {
   "cell_type": "code",
   "execution_count": 19,
   "id": "932b85ef",
   "metadata": {},
   "outputs": [],
   "source": [
    "# Import liberaries\n",
    "\n",
    "import os\n",
    "import pygame\n",
    "import tkinter as tk\n",
    "from tkinter import ttk\n",
    "\n",
    "# initialize pygame mixer\n",
    "\n",
    "pygame.mixer.init()"
   ]
  },
  {
   "cell_type": "code",
   "execution_count": 27,
   "id": "2f670405",
   "metadata": {},
   "outputs": [
    {
     "name": "stdout",
     "output_type": "stream",
     "text": [
      "<bound method Wm.wm_title of <tkinter.Tk object .>>\n"
     ]
    }
   ],
   "source": [
    "# create GUI window\n",
    "\n",
    "root = tk.Tk()\n",
    "root.title(\"Music Player\")"
   ]
  },
  {
   "cell_type": "code",
   "execution_count": 21,
   "id": "d01df75b",
   "metadata": {},
   "outputs": [],
   "source": [
    "# create label for song name\n",
    "\n",
    "song_label = ttk.Label(root, text=\"Song Name\")\n",
    "song_label.pack()"
   ]
  },
  {
   "cell_type": "code",
   "execution_count": 22,
   "id": "f9e7904b",
   "metadata": {},
   "outputs": [],
   "source": [
    "# define music playlist\n",
    "\n",
    "playlist = [r\"C:\\Users\\Dell\\Desktop\\New project by k\\Pandas\\life-is-beautiful-110057.mp3\", r\"C:\\Users\\Dell\\Desktop\\New project by k\\Pandas\\sunset by the sea.mp3\"]\n",
    "current_song_index = 0"
   ]
  },
  {
   "cell_type": "code",
   "execution_count": 23,
   "id": "daf3089e",
   "metadata": {},
   "outputs": [],
   "source": [
    "# define functions for player controls\n",
    "\n",
    "def play():\n",
    "    global current_song_index\n",
    "    # get the name of the currently playing song\n",
    "    song_path = playlist[current_song_index]\n",
    "    song_name = os.path.basename(song_path)\n",
    "    # update the song label with the name of the currently playing song\n",
    "    song_label.config(text=song_name)\n",
    "    # load and play the currently playing song\n",
    "    pygame.mixer.music.load(song_path)\n",
    "    pygame.mixer.music.play()\n",
    "\n",
    "def pause():\n",
    "    pygame.mixer.music.pause()\n",
    "\n",
    "def unpause():\n",
    "    pygame.mixer.music.unpause()\n",
    "\n",
    "def stop():\n",
    "    global current_song_index\n",
    "    pygame.mixer.music.stop()\n",
    "    current_song_index = 0\n",
    "\n",
    "def next_song():\n",
    "    global current_song_index\n",
    "    current_song_index = (current_song_index + 1) % len(playlist)\n",
    "    play()\n",
    "\n",
    "def prev_song():\n",
    "    global current_song_index\n",
    "    current_song_index = (current_song_index - 1) % len(playlist)\n",
    "    play()\n"
   ]
  },
  {
   "cell_type": "code",
   "execution_count": 24,
   "id": "ebd6faec",
   "metadata": {},
   "outputs": [],
   "source": [
    "# create control buttons\n",
    "\n",
    "play_button = ttk.Button(root, text=\"Play\", command=play)\n",
    "play_button.pack()\n",
    "\n",
    "pause_button = ttk.Button(root, text=\"Pause\", command=pause)\n",
    "pause_button.pack()\n",
    "\n",
    "unpause_button = ttk.Button(root, text=\"Unpause\", command=unpause)\n",
    "unpause_button.pack()\n",
    "\n",
    "stop_button = ttk.Button(root, text=\"Stop\", command=stop)\n",
    "stop_button.pack()\n",
    "\n",
    "next_button = ttk.Button(root, text=\"Next\", command=next_song)\n",
    "next_button.pack()\n",
    "\n",
    "prev_button = ttk.Button(root, text=\"Previous\", command=prev_song)\n",
    "prev_button.pack()"
   ]
  },
  {
   "cell_type": "code",
   "execution_count": 25,
   "id": "58a4bd79",
   "metadata": {},
   "outputs": [],
   "source": [
    "# create volume slider\n",
    "\n",
    "volume_label = ttk.Label(root, text=\"Volume\")\n",
    "volume_label.pack()\n",
    "volume_slider = ttk.Scale(root, from_=0, to=1, orient=tk.HORIZONTAL, command=lambda x: pygame.mixer.music.set_volume(float(x)))\n",
    "volume_slider.pack()\n"
   ]
  },
  {
   "cell_type": "code",
   "execution_count": 26,
   "id": "eaabf810",
   "metadata": {},
   "outputs": [],
   "source": [
    "# start GUI loop\n",
    "root.mainloop()"
   ]
  }
 ],
 "metadata": {
  "kernelspec": {
   "display_name": "Python 3",
   "language": "python",
   "name": "python3"
  },
  "language_info": {
   "codemirror_mode": {
    "name": "ipython",
    "version": 3
   },
   "file_extension": ".py",
   "mimetype": "text/x-python",
   "name": "python",
   "nbconvert_exporter": "python",
   "pygments_lexer": "ipython3",
   "version": "3.8.8"
  }
 },
 "nbformat": 4,
 "nbformat_minor": 5
}
